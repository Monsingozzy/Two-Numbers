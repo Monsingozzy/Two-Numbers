{
 "cells": [
  {
   "cell_type": "markdown",
   "metadata": {},
   "source": [
    "# Two Numbers"
   ]
  },
  {
   "cell_type": "code",
   "execution_count": null,
   "metadata": {},
   "outputs": [],
   "source": [
    "for _ in range(int(input())):#start to upto last step user value\n",
    "    a,b,n=map(int,input().split(\" \")) #take input n \n",
    "    r=n%2 \n",
    "    if r==1: #check if n has % 2 is 1 then alice miltiply by 2\n",
    "        a*=2\n",
    "    x=max(a,b) #take max and min in bob alice\n",
    "    y=min(a,b)\n",
    "    print(x//y)# devide it thats fianl ans "
   ]
  },
  {
   "cell_type": "markdown",
   "metadata": {},
   "source": [
    "## step1 : start steps that upto user input\n",
    "\n",
    "## step2 :take input n and split it every inputs \n",
    "\n",
    "## step3 : check input has 1 then assign upto multi by 2 \n",
    "\n",
    "## step4 : taking max value and min value in bob and alice then devide it "
   ]
  },
  {
   "cell_type": "code",
   "execution_count": null,
   "metadata": {},
   "outputs": [],
   "source": []
  }
 ],
 "metadata": {
  "kernelspec": {
   "display_name": "Python 3",
   "language": "python",
   "name": "python3"
  },
  "language_info": {
   "codemirror_mode": {
    "name": "ipython",
    "version": 3
   },
   "file_extension": ".py",
   "mimetype": "text/x-python",
   "name": "python",
   "nbconvert_exporter": "python",
   "pygments_lexer": "ipython3",
   "version": "3.7.9"
  }
 },
 "nbformat": 4,
 "nbformat_minor": 4
}
